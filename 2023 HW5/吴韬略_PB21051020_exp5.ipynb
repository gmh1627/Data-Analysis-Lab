{
 "cells": [
  {
   "cell_type": "code",
   "execution_count": 1,
   "id": "83467778",
   "metadata": {},
   "outputs": [],
   "source": [
    "from sklearn.tree import DecisionTreeClassifier\n",
    "from sklearn.neighbors import KNeighborsClassifier\n",
    "from sklearn.neural_network import MLPClassifier\n",
    "from sklearn.ensemble import VotingClassifier\n",
    "from sklearn.model_selection import KFold, cross_validate\n",
    "import pandas as pd"
   ]
  },
  {
   "cell_type": "code",
   "execution_count": 2,
   "id": "1506ef3f",
   "metadata": {},
   "outputs": [],
   "source": [
    "#Load the Data\n",
    "data=pd.read_csv('data.csv')\n",
    "x=data.drop('REPEAT',axis=1)\n",
    "y=data.REPEAT"
   ]
  },
  {
   "cell_type": "code",
   "execution_count": 3,
   "id": "1e6fdd19",
   "metadata": {},
   "outputs": [],
   "source": [
    "#Create Model\n",
    "model1=DecisionTreeClassifier(max_depth=8,min_samples_leaf=100,min_impurity_decrease=0,ccp_alpha=0.00008)\n",
    "model2=KNeighborsClassifier(n_neighbors=8,leaf_size=20,n_jobs=-1,metric='cityblock')\n",
    "model3 = MLPClassifier(hidden_layer_sizes=(90,),max_iter=1000,learning_rate='adaptive',warm_start=True)\n",
    "model = VotingClassifier(estimators=[('tree', model1), ('knn', model2), ('mlp', model3)], voting='soft',n_jobs=-1)"
   ]
  },
  {
   "cell_type": "code",
   "execution_count": 4,
   "id": "a0af5ca3",
   "metadata": {},
   "outputs": [],
   "source": [
    "#Perform Cross-Validation with K-Fold\n",
    "kf=KFold(n_splits=5,shuffle=True, random_state=42)\n",
    "result=cross_validate(model,x,y,cv=kf,scoring=('accuracy','f1_weighted'),return_train_score=bool,return_estimator=bool)"
   ]
  },
  {
   "cell_type": "code",
   "execution_count": 5,
   "id": "d2ed973c",
   "metadata": {},
   "outputs": [],
   "source": [
    "#get the best model\n",
    "best_model=result['estimator'][result['test_f1_weighted'].argmax()]\n",
    "#predivt the whole data\n",
    "y_pred=best_model.predict(x)\n",
    "#save as a csv file\n",
    "pd.DataFrame({'y_pred':y_pred}).to_csv('y_pred.csv',index=True)"
   ]
  },
  {
   "cell_type": "code",
   "execution_count": 6,
   "id": "de10cf77",
   "metadata": {},
   "outputs": [
    {
     "data": {
      "text/html": [
       "<div>\n",
       "<style scoped>\n",
       "    .dataframe tbody tr th:only-of-type {\n",
       "        vertical-align: middle;\n",
       "    }\n",
       "\n",
       "    .dataframe tbody tr th {\n",
       "        vertical-align: top;\n",
       "    }\n",
       "\n",
       "    .dataframe thead th {\n",
       "        text-align: right;\n",
       "    }\n",
       "</style>\n",
       "<table border=\"1\" class=\"dataframe\">\n",
       "  <thead>\n",
       "    <tr style=\"text-align: right;\">\n",
       "      <th></th>\n",
       "      <th>test</th>\n",
       "      <th>train</th>\n",
       "    </tr>\n",
       "  </thead>\n",
       "  <tbody>\n",
       "    <tr>\n",
       "      <th>accuracy</th>\n",
       "      <td>0.820103</td>\n",
       "      <td>0.836017</td>\n",
       "    </tr>\n",
       "    <tr>\n",
       "      <th>f1-score</th>\n",
       "      <td>0.800404</td>\n",
       "      <td>0.818413</td>\n",
       "    </tr>\n",
       "  </tbody>\n",
       "</table>\n",
       "</div>"
      ],
      "text/plain": [
       "              test     train\n",
       "accuracy  0.820103  0.836017\n",
       "f1-score  0.800404  0.818413"
      ]
     },
     "execution_count": 6,
     "metadata": {},
     "output_type": "execute_result"
    }
   ],
   "source": [
    "#print the accuracy and f1-score of test and training data\n",
    "result_pd=pd.DataFrame(\n",
    "    {'test':[result['test_accuracy'].mean(),result['test_f1_weighted'].mean()],\n",
    "     'train':[result['train_accuracy'].mean(),result['train_f1_weighted'].mean()]\n",
    "     }\n",
    "    )\n",
    "result_pd.index=['accuracy','f1-score']\n",
    "result_pd"
   ]
  }
 ],
 "metadata": {
  "kernelspec": {
   "display_name": "Python 3 (ipykernel)",
   "language": "python",
   "name": "python3"
  },
  "language_info": {
   "codemirror_mode": {
    "name": "ipython",
    "version": 3
   },
   "file_extension": ".py",
   "mimetype": "text/x-python",
   "name": "python",
   "nbconvert_exporter": "python",
   "pygments_lexer": "ipython3",
   "version": "3.10.13"
  }
 },
 "nbformat": 4,
 "nbformat_minor": 5
}
